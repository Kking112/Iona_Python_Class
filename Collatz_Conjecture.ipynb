{
 "cells": [
  {
   "cell_type": "code",
   "execution_count": 2,
   "metadata": {},
   "outputs": [],
   "source": [
    "# Creates function which has an argument for an integer. This integer is run through the while loop\n",
    "# until it is equal to one\n",
    "def collatz(num:int):\n",
    "    lst = []\n",
    "    lst.append(num)\n",
    "    while num != 1:\n",
    "        if num % 2 == 0:\n",
    "            num = num/2\n",
    "            lst.append(num)\n",
    "        else:\n",
    "            num = (3*num)+1\n",
    "            lst.append(num)\n",
    "    return lst\n",
    "    \n",
    "    \n",
    "    \n",
    "    "
   ]
  },
  {
   "cell_type": "code",
   "execution_count": 8,
   "metadata": {},
   "outputs": [
    {
     "data": {
      "text/plain": [
       "[5, 16, 8.0, 4.0, 2.0, 1.0]"
      ]
     },
     "execution_count": 8,
     "metadata": {},
     "output_type": "execute_result"
    }
   ],
   "source": [
    "# test..\n",
    "collatz(5)"
   ]
  },
  {
   "cell_type": "code",
   "execution_count": 5,
   "metadata": {},
   "outputs": [],
   "source": [
    "# loop through 1 mil ints, change to 100k/10k depending on your computer power.\n",
    "dic_a = {}\n",
    "for askjs in range(10000,1100000):\n",
    "    dic_a[askjs] = collatz(askjs)"
   ]
  },
  {
   "cell_type": "code",
   "execution_count": 10,
   "metadata": {},
   "outputs": [
    {
     "data": {
      "text/plain": [
       "[129844,\n",
       " 64922.0,\n",
       " 32461.0,\n",
       " 97384.0,\n",
       " 48692.0,\n",
       " 24346.0,\n",
       " 12173.0,\n",
       " 36520.0,\n",
       " 18260.0,\n",
       " 9130.0,\n",
       " 4565.0,\n",
       " 13696.0,\n",
       " 6848.0,\n",
       " 3424.0,\n",
       " 1712.0,\n",
       " 856.0,\n",
       " 428.0,\n",
       " 214.0,\n",
       " 107.0,\n",
       " 322.0,\n",
       " 161.0,\n",
       " 484.0,\n",
       " 242.0,\n",
       " 121.0,\n",
       " 364.0,\n",
       " 182.0,\n",
       " 91.0,\n",
       " 274.0,\n",
       " 137.0,\n",
       " 412.0,\n",
       " 206.0,\n",
       " 103.0,\n",
       " 310.0,\n",
       " 155.0,\n",
       " 466.0,\n",
       " 233.0,\n",
       " 700.0,\n",
       " 350.0,\n",
       " 175.0,\n",
       " 526.0,\n",
       " 263.0,\n",
       " 790.0,\n",
       " 395.0,\n",
       " 1186.0,\n",
       " 593.0,\n",
       " 1780.0,\n",
       " 890.0,\n",
       " 445.0,\n",
       " 1336.0,\n",
       " 668.0,\n",
       " 334.0,\n",
       " 167.0,\n",
       " 502.0,\n",
       " 251.0,\n",
       " 754.0,\n",
       " 377.0,\n",
       " 1132.0,\n",
       " 566.0,\n",
       " 283.0,\n",
       " 850.0,\n",
       " 425.0,\n",
       " 1276.0,\n",
       " 638.0,\n",
       " 319.0,\n",
       " 958.0,\n",
       " 479.0,\n",
       " 1438.0,\n",
       " 719.0,\n",
       " 2158.0,\n",
       " 1079.0,\n",
       " 3238.0,\n",
       " 1619.0,\n",
       " 4858.0,\n",
       " 2429.0,\n",
       " 7288.0,\n",
       " 3644.0,\n",
       " 1822.0,\n",
       " 911.0,\n",
       " 2734.0,\n",
       " 1367.0,\n",
       " 4102.0,\n",
       " 2051.0,\n",
       " 6154.0,\n",
       " 3077.0,\n",
       " 9232.0,\n",
       " 4616.0,\n",
       " 2308.0,\n",
       " 1154.0,\n",
       " 577.0,\n",
       " 1732.0,\n",
       " 866.0,\n",
       " 433.0,\n",
       " 1300.0,\n",
       " 650.0,\n",
       " 325.0,\n",
       " 976.0,\n",
       " 488.0,\n",
       " 244.0,\n",
       " 122.0,\n",
       " 61.0,\n",
       " 184.0,\n",
       " 92.0,\n",
       " 46.0,\n",
       " 23.0,\n",
       " 70.0,\n",
       " 35.0,\n",
       " 106.0,\n",
       " 53.0,\n",
       " 160.0,\n",
       " 80.0,\n",
       " 40.0,\n",
       " 20.0,\n",
       " 10.0,\n",
       " 5.0,\n",
       " 16.0,\n",
       " 8.0,\n",
       " 4.0,\n",
       " 2.0,\n",
       " 1.0]"
      ]
     },
     "execution_count": 10,
     "metadata": {},
     "output_type": "execute_result"
    }
   ],
   "source": [
    "dic_a[129844]"
   ]
  },
  {
   "cell_type": "code",
   "execution_count": 1,
   "metadata": {},
   "outputs": [],
   "source": []
  },
  {
   "cell_type": "code",
   "execution_count": null,
   "metadata": {},
   "outputs": [],
   "source": []
  }
 ],
 "metadata": {
  "kernelspec": {
   "display_name": "Python 3",
   "language": "python",
   "name": "python3"
  },
  "language_info": {
   "codemirror_mode": {
    "name": "ipython",
    "version": 3
   },
   "file_extension": ".py",
   "mimetype": "text/x-python",
   "name": "python",
   "nbconvert_exporter": "python",
   "pygments_lexer": "ipython3",
   "version": "3.8.5"
  }
 },
 "nbformat": 4,
 "nbformat_minor": 4
}
