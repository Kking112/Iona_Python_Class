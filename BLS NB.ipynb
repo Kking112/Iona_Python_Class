{
 "cells": [
  {
   "cell_type": "code",
   "execution_count": 4,
   "metadata": {},
   "outputs": [],
   "source": [
    "from pprint import pprint\n",
    "#from pybea.client import BureauEconomicAnalysisClient\n",
    "import pandas as pd\n",
    "import numpy as np\n",
    "import os \n",
    "import requests\n",
    "import matplotlib.pyplot as plt\n",
    "import warnings\n",
    "import prettytable\n",
    "warnings.filterwarnings('ignore')"
   ]
  },
  {
   "cell_type": "code",
   "execution_count": 5,
   "metadata": {},
   "outputs": [],
   "source": [
    "import requests\n",
    "import json\n",
    "import prettytable\n",
    "headers = {'Content-type': 'application/json'}\n",
    "data = json.dumps({\"seriesid\": ['CUUR0000SA0','SUUR0000SA0'],\"startyear\":\"2011\", \"endyear\":\"2014\"})\n",
    "p = requests.post('https://api.bls.gov/publicAPI/v2/timeseries/data/', data=data, headers=headers)\n",
    "json_data = json.loads(p.text)\n",
    "for series in json_data['Results']['series']:\n",
    "    x=prettytable.PrettyTable([\"series id\",\"year\",\"period\",\"value\",\"footnotes\"])\n",
    "    seriesId = series['seriesID']\n",
    "    for item in series['data']:\n",
    "        year = item['year']\n",
    "        period = item['period']\n",
    "        value = item['value']\n",
    "        footnotes=\"\"\n",
    "        for footnote in item['footnotes']:\n",
    "            if footnote:\n",
    "                footnotes = footnotes + footnote['text'] + ','\n",
    "        if 'M01' <= period <= 'M12':\n",
    "            x.add_row([seriesId,year,period,value,footnotes[0:-1]])\n",
    "    output = open(seriesId + '.txt','w')\n",
    "    output.write (x.get_string())\n",
    "    output.close()\n"
   ]
  },
  {
   "cell_type": "code",
   "execution_count": 7,
   "metadata": {},
   "outputs": [],
   "source": [
    "headers = {'Content-type': 'application/json'}\n",
    "data = json.dumps({\"seriesid\": ['LNS14000000'],\"startyear\":\"2015\", \"endyear\":\"2020\"})\n",
    "p = requests.post('https://api.bls.gov/publicAPI/v2/timeseries/data/', data=data, headers=headers)"
   ]
  },
  {
   "cell_type": "code",
   "execution_count": 9,
   "metadata": {},
   "outputs": [],
   "source": [
    "json_data = json.loads(p.text)"
   ]
  },
  {
   "cell_type": "code",
   "execution_count": 21,
   "metadata": {},
   "outputs": [],
   "source": [
    "df = pd.json_normalize(json_data['Results']['series'][0]['data'])"
   ]
  },
  {
   "cell_type": "code",
   "execution_count": 23,
   "metadata": {},
   "outputs": [],
   "source": [
    "df['Date'] = df['year'].astype(str) + df['period'].astype(str)"
   ]
  },
  {
   "cell_type": "code",
   "execution_count": 28,
   "metadata": {},
   "outputs": [],
   "source": [
    "df['value'] = df['value'].astype(float)"
   ]
  },
  {
   "cell_type": "code",
   "execution_count": 32,
   "metadata": {},
   "outputs": [
    {
     "data": {
      "text/html": [
       "<div>\n",
       "<style scoped>\n",
       "    .dataframe tbody tr th:only-of-type {\n",
       "        vertical-align: middle;\n",
       "    }\n",
       "\n",
       "    .dataframe tbody tr th {\n",
       "        vertical-align: top;\n",
       "    }\n",
       "\n",
       "    .dataframe thead th {\n",
       "        text-align: right;\n",
       "    }\n",
       "</style>\n",
       "<table border=\"1\" class=\"dataframe\">\n",
       "  <thead>\n",
       "    <tr style=\"text-align: right;\">\n",
       "      <th></th>\n",
       "      <th>year</th>\n",
       "      <th>period</th>\n",
       "      <th>periodName</th>\n",
       "      <th>value</th>\n",
       "      <th>footnotes</th>\n",
       "      <th>Date</th>\n",
       "    </tr>\n",
       "  </thead>\n",
       "  <tbody>\n",
       "    <tr>\n",
       "      <th>71</th>\n",
       "      <td>2015</td>\n",
       "      <td>M01</td>\n",
       "      <td>January</td>\n",
       "      <td>5.7</td>\n",
       "      <td>[{}]</td>\n",
       "      <td>2015M01</td>\n",
       "    </tr>\n",
       "    <tr>\n",
       "      <th>60</th>\n",
       "      <td>2015</td>\n",
       "      <td>M12</td>\n",
       "      <td>December</td>\n",
       "      <td>5.0</td>\n",
       "      <td>[{}]</td>\n",
       "      <td>2015M12</td>\n",
       "    </tr>\n",
       "    <tr>\n",
       "      <th>61</th>\n",
       "      <td>2015</td>\n",
       "      <td>M11</td>\n",
       "      <td>November</td>\n",
       "      <td>5.1</td>\n",
       "      <td>[{}]</td>\n",
       "      <td>2015M11</td>\n",
       "    </tr>\n",
       "    <tr>\n",
       "      <th>62</th>\n",
       "      <td>2015</td>\n",
       "      <td>M10</td>\n",
       "      <td>October</td>\n",
       "      <td>5.0</td>\n",
       "      <td>[{}]</td>\n",
       "      <td>2015M10</td>\n",
       "    </tr>\n",
       "    <tr>\n",
       "      <th>63</th>\n",
       "      <td>2015</td>\n",
       "      <td>M09</td>\n",
       "      <td>September</td>\n",
       "      <td>5.0</td>\n",
       "      <td>[{}]</td>\n",
       "      <td>2015M09</td>\n",
       "    </tr>\n",
       "    <tr>\n",
       "      <th>...</th>\n",
       "      <td>...</td>\n",
       "      <td>...</td>\n",
       "      <td>...</td>\n",
       "      <td>...</td>\n",
       "      <td>...</td>\n",
       "      <td>...</td>\n",
       "    </tr>\n",
       "    <tr>\n",
       "      <th>9</th>\n",
       "      <td>2020</td>\n",
       "      <td>M03</td>\n",
       "      <td>March</td>\n",
       "      <td>4.4</td>\n",
       "      <td>[{}]</td>\n",
       "      <td>2020M03</td>\n",
       "    </tr>\n",
       "    <tr>\n",
       "      <th>10</th>\n",
       "      <td>2020</td>\n",
       "      <td>M02</td>\n",
       "      <td>February</td>\n",
       "      <td>3.5</td>\n",
       "      <td>[{}]</td>\n",
       "      <td>2020M02</td>\n",
       "    </tr>\n",
       "    <tr>\n",
       "      <th>11</th>\n",
       "      <td>2020</td>\n",
       "      <td>M01</td>\n",
       "      <td>January</td>\n",
       "      <td>3.5</td>\n",
       "      <td>[{}]</td>\n",
       "      <td>2020M01</td>\n",
       "    </tr>\n",
       "    <tr>\n",
       "      <th>6</th>\n",
       "      <td>2020</td>\n",
       "      <td>M06</td>\n",
       "      <td>June</td>\n",
       "      <td>11.1</td>\n",
       "      <td>[{}]</td>\n",
       "      <td>2020M06</td>\n",
       "    </tr>\n",
       "    <tr>\n",
       "      <th>0</th>\n",
       "      <td>2020</td>\n",
       "      <td>M12</td>\n",
       "      <td>December</td>\n",
       "      <td>6.7</td>\n",
       "      <td>[{}]</td>\n",
       "      <td>2020M12</td>\n",
       "    </tr>\n",
       "  </tbody>\n",
       "</table>\n",
       "<p>72 rows × 6 columns</p>\n",
       "</div>"
      ],
      "text/plain": [
       "    year period periodName  value footnotes     Date\n",
       "71  2015    M01    January    5.7      [{}]  2015M01\n",
       "60  2015    M12   December    5.0      [{}]  2015M12\n",
       "61  2015    M11   November    5.1      [{}]  2015M11\n",
       "62  2015    M10    October    5.0      [{}]  2015M10\n",
       "63  2015    M09  September    5.0      [{}]  2015M09\n",
       "..   ...    ...        ...    ...       ...      ...\n",
       "9   2020    M03      March    4.4      [{}]  2020M03\n",
       "10  2020    M02   February    3.5      [{}]  2020M02\n",
       "11  2020    M01    January    3.5      [{}]  2020M01\n",
       "6   2020    M06       June   11.1      [{}]  2020M06\n",
       "0   2020    M12   December    6.7      [{}]  2020M12\n",
       "\n",
       "[72 rows x 6 columns]"
      ]
     },
     "execution_count": 32,
     "metadata": {},
     "output_type": "execute_result"
    }
   ],
   "source": [
    "df.sort_values('year')"
   ]
  },
  {
   "cell_type": "code",
   "execution_count": 33,
   "metadata": {},
   "outputs": [
    {
     "data": {
      "text/plain": [
       "<AxesSubplot:xlabel='Date'>"
      ]
     },
     "execution_count": 33,
     "metadata": {},
     "output_type": "execute_result"
    },
    {
     "data": {
      "image/png": "[encoded data removed]",
      "text/plain": [
       "<Figure size 1080x720 with 1 Axes>"
      ]
     },
     "metadata": {
      "needs_background": "light"
     },
     "output_type": "display_data"
    }
   ],
   "source": [
    "df.sort_values('year').plot(x='Date',y='value',figsize=(15,10))"
   ]
  },
  {
   "cell_type": "code",
   "execution_count": 34,
   "metadata": {},
   "outputs": [],
   "source": [
    "def plot_employment(df):\n",
    "    df['Date'] = df['year'].astype(str) + df['period'].astype(str)\n",
    "    df['value'] = df['value'].astype(float)\n",
    "    df.sort_values('year').plot(x='Date',y='value',figsize=(15,10))"
   ]
  },
  {
   "cell_type": "code",
   "execution_count": null,
   "metadata": {},
   "outputs": [],
   "source": [
    "##################################"
   ]
  },
  {
   "cell_type": "code",
   "execution_count": 35,
   "metadata": {},
   "outputs": [],
   "source": [
    "# Get Inflation data\n",
    "#CUSR0000SA0\n",
    "headers = {'Content-type': 'application/json'}\n",
    "data = json.dumps({\"seriesid\": ['CUSR0000SA0'],\"startyear\":\"2015\", \"endyear\":\"2020\"})\n",
    "p = requests.post('https://api.bls.gov/publicAPI/v2/timeseries/data/', data=data, headers=headers)\n",
    "json_data = json.loads(p.text)"
   ]
  },
  {
   "cell_type": "code",
   "execution_count": 49,
   "metadata": {},
   "outputs": [],
   "source": [
    "df_inflation = pd.json_normalize(json_data['Results']['series'][0]['data'])"
   ]
  },
  {
   "cell_type": "code",
   "execution_count": 62,
   "metadata": {},
   "outputs": [
    {
     "data": {
      "text/html": [
       "<div>\n",
       "<style scoped>\n",
       "    .dataframe tbody tr th:only-of-type {\n",
       "        vertical-align: middle;\n",
       "    }\n",
       "\n",
       "    .dataframe tbody tr th {\n",
       "        vertical-align: top;\n",
       "    }\n",
       "\n",
       "    .dataframe thead th {\n",
       "        text-align: right;\n",
       "    }\n",
       "</style>\n",
       "<table border=\"1\" class=\"dataframe\">\n",
       "  <thead>\n",
       "    <tr style=\"text-align: right;\">\n",
       "      <th></th>\n",
       "      <th>year</th>\n",
       "      <th>period</th>\n",
       "      <th>periodName</th>\n",
       "      <th>value</th>\n",
       "      <th>footnotes</th>\n",
       "      <th>Date</th>\n",
       "    </tr>\n",
       "  </thead>\n",
       "  <tbody>\n",
       "    <tr>\n",
       "      <th>71</th>\n",
       "      <td>2015</td>\n",
       "      <td>M01</td>\n",
       "      <td>January</td>\n",
       "      <td>234.747</td>\n",
       "      <td>[{}]</td>\n",
       "      <td>2015-M01</td>\n",
       "    </tr>\n",
       "    <tr>\n",
       "      <th>70</th>\n",
       "      <td>2015</td>\n",
       "      <td>M02</td>\n",
       "      <td>February</td>\n",
       "      <td>235.342</td>\n",
       "      <td>[{}]</td>\n",
       "      <td>2015-M02</td>\n",
       "    </tr>\n",
       "    <tr>\n",
       "      <th>69</th>\n",
       "      <td>2015</td>\n",
       "      <td>M03</td>\n",
       "      <td>March</td>\n",
       "      <td>235.976</td>\n",
       "      <td>[{}]</td>\n",
       "      <td>2015-M03</td>\n",
       "    </tr>\n",
       "    <tr>\n",
       "      <th>68</th>\n",
       "      <td>2015</td>\n",
       "      <td>M04</td>\n",
       "      <td>April</td>\n",
       "      <td>236.222</td>\n",
       "      <td>[{}]</td>\n",
       "      <td>2015-M04</td>\n",
       "    </tr>\n",
       "    <tr>\n",
       "      <th>67</th>\n",
       "      <td>2015</td>\n",
       "      <td>M05</td>\n",
       "      <td>May</td>\n",
       "      <td>237.001</td>\n",
       "      <td>[{}]</td>\n",
       "      <td>2015-M05</td>\n",
       "    </tr>\n",
       "    <tr>\n",
       "      <th>...</th>\n",
       "      <td>...</td>\n",
       "      <td>...</td>\n",
       "      <td>...</td>\n",
       "      <td>...</td>\n",
       "      <td>...</td>\n",
       "      <td>...</td>\n",
       "    </tr>\n",
       "    <tr>\n",
       "      <th>4</th>\n",
       "      <td>2020</td>\n",
       "      <td>M08</td>\n",
       "      <td>August</td>\n",
       "      <td>259.511</td>\n",
       "      <td>[{}]</td>\n",
       "      <td>2020-M08</td>\n",
       "    </tr>\n",
       "    <tr>\n",
       "      <th>3</th>\n",
       "      <td>2020</td>\n",
       "      <td>M09</td>\n",
       "      <td>September</td>\n",
       "      <td>260.149</td>\n",
       "      <td>[{}]</td>\n",
       "      <td>2020-M09</td>\n",
       "    </tr>\n",
       "    <tr>\n",
       "      <th>2</th>\n",
       "      <td>2020</td>\n",
       "      <td>M10</td>\n",
       "      <td>October</td>\n",
       "      <td>260.462</td>\n",
       "      <td>[{}]</td>\n",
       "      <td>2020-M10</td>\n",
       "    </tr>\n",
       "    <tr>\n",
       "      <th>1</th>\n",
       "      <td>2020</td>\n",
       "      <td>M11</td>\n",
       "      <td>November</td>\n",
       "      <td>260.927</td>\n",
       "      <td>[{}]</td>\n",
       "      <td>2020-M11</td>\n",
       "    </tr>\n",
       "    <tr>\n",
       "      <th>0</th>\n",
       "      <td>2020</td>\n",
       "      <td>M12</td>\n",
       "      <td>December</td>\n",
       "      <td>261.560</td>\n",
       "      <td>[{}]</td>\n",
       "      <td>2020-M12</td>\n",
       "    </tr>\n",
       "  </tbody>\n",
       "</table>\n",
       "<p>72 rows × 6 columns</p>\n",
       "</div>"
      ],
      "text/plain": [
       "    year period periodName    value footnotes      Date\n",
       "71  2015    M01    January  234.747      [{}]  2015-M01\n",
       "70  2015    M02   February  235.342      [{}]  2015-M02\n",
       "69  2015    M03      March  235.976      [{}]  2015-M03\n",
       "68  2015    M04      April  236.222      [{}]  2015-M04\n",
       "67  2015    M05        May  237.001      [{}]  2015-M05\n",
       "..   ...    ...        ...      ...       ...       ...\n",
       "4   2020    M08     August  259.511      [{}]  2020-M08\n",
       "3   2020    M09  September  260.149      [{}]  2020-M09\n",
       "2   2020    M10    October  260.462      [{}]  2020-M10\n",
       "1   2020    M11   November  260.927      [{}]  2020-M11\n",
       "0   2020    M12   December  261.560      [{}]  2020-M12\n",
       "\n",
       "[72 rows x 6 columns]"
      ]
     },
     "execution_count": 62,
     "metadata": {},
     "output_type": "execute_result"
    }
   ],
   "source": [
    "df_inflation.sort_values(by=['year','period'])"
   ]
  },
  {
   "cell_type": "code",
   "execution_count": 63,
   "metadata": {},
   "outputs": [],
   "source": [
    "def plot_inflation(df):\n",
    "    df['Date'] = df['year'].astype(str) + '-' + df['period'].astype(str)\n",
    "    df['value'] = df['value'].astype(float)\n",
    "    df.sort_values(['year','period']).plot(x='Date',y='value',figsize=(15,10),title='CPI Over Time')"
   ]
  },
  {
   "cell_type": "code",
   "execution_count": 64,
   "metadata": {},
   "outputs": [
    {
     "data": {
      "image/png": "[encoded data removed]",
      "text/plain": [
       "<Figure size 1080x720 with 1 Axes>"
      ]
     },
     "metadata": {
      "needs_background": "light"
     },
     "output_type": "display_data"
    }
   ],
   "source": [
    "plot_inflation(df_inflation)"
   ]
  },
  {
   "cell_type": "code",
   "execution_count": 65,
   "metadata": {},
   "outputs": [],
   "source": [
    "##############################"
   ]
  },
  {
   "cell_type": "code",
   "execution_count": 66,
   "metadata": {},
   "outputs": [],
   "source": [
    "#Income data\n",
    "#CIU1010000000000A"
   ]
  },
  {
   "cell_type": "code",
   "execution_count": 67,
   "metadata": {},
   "outputs": [],
   "source": [
    "headers = {'Content-type': 'application/json'}\n",
    "data = json.dumps({\"seriesid\": ['CIU1010000000000A'],\"startyear\":\"2015\", \"endyear\":\"2020\"})\n",
    "p = requests.post('https://api.bls.gov/publicAPI/v2/timeseries/data/', data=data, headers=headers)\n",
    "json_data = json.loads(p.text)"
   ]
  },
  {
   "cell_type": "code",
   "execution_count": 74,
   "metadata": {},
   "outputs": [],
   "source": [
    "df_wages = pd.json_normalize(json_data['Results']['series'][0]['data'])"
   ]
  },
  {
   "cell_type": "code",
   "execution_count": null,
   "metadata": {},
   "outputs": [],
   "source": []
  }
 ],
 "metadata": {
  "kernelspec": {
   "display_name": "Python 3",
   "language": "python",
   "name": "python3"
  },
  "language_info": {
   "codemirror_mode": {
    "name": "ipython",
    "version": 3
   },
   "file_extension": ".py",
   "mimetype": "text/x-python",
   "name": "python",
   "nbconvert_exporter": "python",
   "pygments_lexer": "ipython3",
   "version": "3.8.5"
  }
 },
 "nbformat": 4,
 "nbformat_minor": 4
}
